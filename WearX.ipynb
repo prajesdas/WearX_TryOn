{
 "cells": [
  {
   "cell_type": "code",
   "execution_count": null,
   "id": "eac8f2b0-a22a-4ae4-b826-271a502c2551",
   "metadata": {},
   "outputs": [
    {
     "ename": "error",
     "evalue": "OpenCV(4.11.0) D:\\a\\opencv-python\\opencv-python\\opencv\\modules\\imgproc\\src\\color.cpp:199: error: (-215:Assertion failed) !_src.empty() in function 'cv::cvtColor'\n",
     "output_type": "error",
     "traceback": [
      "\u001b[1;31m---------------------------------------------------------------------------\u001b[0m",
      "\u001b[1;31merror\u001b[0m                                     Traceback (most recent call last)",
      "Cell \u001b[1;32mIn[4], line 21\u001b[0m\n\u001b[0;32m     17\u001b[0m     image[mask \u001b[38;5;241m==\u001b[39m \u001b[38;5;241m255\u001b[39m] \u001b[38;5;241m=\u001b[39m [\u001b[38;5;241m0\u001b[39m, \u001b[38;5;241m0\u001b[39m, \u001b[38;5;241m0\u001b[39m, \u001b[38;5;241m0\u001b[39m]\n\u001b[0;32m     19\u001b[0m     \u001b[38;5;28;01mreturn\u001b[39;00m image\n\u001b[1;32m---> 21\u001b[0m tshirt \u001b[38;5;241m=\u001b[39m \u001b[43mremove_white_background\u001b[49m\u001b[43m(\u001b[49m\u001b[43mtshirt\u001b[49m\u001b[43m)\u001b[49m\n\u001b[0;32m     23\u001b[0m \u001b[38;5;28;01mdef\u001b[39;00m\u001b[38;5;250m \u001b[39m\u001b[38;5;21moverlay_image\u001b[39m(background, overlay, x, y, width, height):\n\u001b[0;32m     24\u001b[0m     overlay \u001b[38;5;241m=\u001b[39m cv2\u001b[38;5;241m.\u001b[39mresize(overlay, (width, height))\n",
      "Cell \u001b[1;32mIn[4], line 12\u001b[0m, in \u001b[0;36mremove_white_background\u001b[1;34m(image)\u001b[0m\n\u001b[0;32m     11\u001b[0m \u001b[38;5;28;01mdef\u001b[39;00m\u001b[38;5;250m \u001b[39m\u001b[38;5;21mremove_white_background\u001b[39m(image):\n\u001b[1;32m---> 12\u001b[0m     image \u001b[38;5;241m=\u001b[39m \u001b[43mcv2\u001b[49m\u001b[38;5;241;43m.\u001b[39;49m\u001b[43mcvtColor\u001b[49m\u001b[43m(\u001b[49m\u001b[43mimage\u001b[49m\u001b[43m,\u001b[49m\u001b[43m \u001b[49m\u001b[43mcv2\u001b[49m\u001b[38;5;241;43m.\u001b[39;49m\u001b[43mCOLOR_BGR2BGRA\u001b[49m\u001b[43m)\u001b[49m\n\u001b[0;32m     13\u001b[0m     lower_white \u001b[38;5;241m=\u001b[39m np\u001b[38;5;241m.\u001b[39marray([\u001b[38;5;241m200\u001b[39m, \u001b[38;5;241m200\u001b[39m, \u001b[38;5;241m200\u001b[39m, \u001b[38;5;241m0\u001b[39m], dtype\u001b[38;5;241m=\u001b[39mnp\u001b[38;5;241m.\u001b[39muint8)\n\u001b[0;32m     14\u001b[0m     upper_white \u001b[38;5;241m=\u001b[39m np\u001b[38;5;241m.\u001b[39marray([\u001b[38;5;241m255\u001b[39m, \u001b[38;5;241m255\u001b[39m, \u001b[38;5;241m255\u001b[39m, \u001b[38;5;241m255\u001b[39m], dtype\u001b[38;5;241m=\u001b[39mnp\u001b[38;5;241m.\u001b[39muint8)\n",
      "\u001b[1;31merror\u001b[0m: OpenCV(4.11.0) D:\\a\\opencv-python\\opencv-python\\opencv\\modules\\imgproc\\src\\color.cpp:199: error: (-215:Assertion failed) !_src.empty() in function 'cv::cvtColor'\n"
     ]
    }
   ],
   "source": [
    "import cv2\n",
    "import mediapipe as mp\n",
    "import numpy as np\n",
    "\n",
    "mp_pose = mp.solutions.pose\n",
    "pose = mp_pose.Pose()\n",
    "\n",
    "# Load T-shirt image\n",
    "tshirt = cv2.imread(\"503.jpg\", cv2.IMREAD_UNCHANGED)\n",
    "\n",
    "def remove_white_background(image):\n",
    "    image = cv2.cvtColor(image, cv2.COLOR_BGR2BGRA)\n",
    "    lower_white = np.array([200, 200, 200, 0], dtype=np.uint8)\n",
    "    upper_white = np.array([255, 255, 255, 255], dtype=np.uint8)\n",
    "    \n",
    "    mask = cv2.inRange(image, lower_white, upper_white)\n",
    "    image[mask == 255] = [0, 0, 0, 0]\n",
    "    \n",
    "    return image\n",
    "\n",
    "tshirt = remove_white_background(tshirt)\n",
    "\n",
    "def overlay_image(background, overlay, x, y, width, height):\n",
    "    overlay = cv2.resize(overlay, (width, height))\n",
    "\n",
    "    for i in range(height):\n",
    "        for j in range(width):\n",
    "            if y + i >= background.shape[0] or x + j >= background.shape[1]:\n",
    "                continue\n",
    "\n",
    "            alpha = overlay[i, j, 3] / 255.0\n",
    "            if alpha > 0:\n",
    "                background[y + i, x + j] = (1 - alpha) * background[y + i, x + j] + alpha * overlay[i, j, :3]\n",
    "\n",
    "    return background\n",
    "\n",
    "cap = cv2.VideoCapture(0)\n",
    "\n",
    "while cap.isOpened():\n",
    "    ret, frame = cap.read()\n",
    "    if not ret:\n",
    "        break\n",
    "\n",
    "    frame_rgb = cv2.cvtColor(frame, cv2.COLOR_BGR2RGB)\n",
    "    result = pose.process(frame_rgb)\n",
    "\n",
    "    if result.pose_landmarks:\n",
    "        landmarks = result.pose_landmarks.landmark\n",
    "        left_shoulder = landmarks[mp_pose.PoseLandmark.LEFT_SHOULDER]\n",
    "        right_shoulder = landmarks[mp_pose.PoseLandmark.RIGHT_SHOULDER]\n",
    "\n",
    "        if left_shoulder and right_shoulder:\n",
    "            x1, y1 = int(left_shoulder.x * frame.shape[1]), int(left_shoulder.y * frame.shape[0])\n",
    "            x2, y2 = int(right_shoulder.x * frame.shape[1]), int(right_shoulder.y * frame.shape[0])\n",
    "\n",
    "            center_x = (x1 + x2) // 2  \n",
    "            width = abs(x2 - x1) * 2  \n",
    "            height = int(width * 1.5)  \n",
    "\n",
    "            # Move T-shirt up slightly for better neck alignment\n",
    "            x = max(0, center_x - width // 2)\n",
    "            y = max(0, y1 - int(height * 0.2))  # Move up by 20% of T-shirt height\n",
    "\n",
    "            frame = overlay_image(frame, tshirt, x, y, width, height)\n",
    "\n",
    "    cv2.imshow(\"Virtual Try-On\", frame)\n",
    "\n",
    "    if cv2.waitKey(1) & 0xFF in [ord(\"q\"), 27]:  \n",
    "        break\n",
    "\n",
    "cap.release()\n",
    "cv2.destroyAllWindows()\n"
   ]
  }
 ],
 "metadata": {
  "kernelspec": {
   "display_name": "Python 3",
   "language": "python",
   "name": "python3"
  },
  "language_info": {
   "codemirror_mode": {
    "name": "ipython",
    "version": 3
   },
   "file_extension": ".py",
   "mimetype": "text/x-python",
   "name": "python",
   "nbconvert_exporter": "python",
   "pygments_lexer": "ipython3",
   "version": "3.10.5"
  }
 },
 "nbformat": 4,
 "nbformat_minor": 5
}
