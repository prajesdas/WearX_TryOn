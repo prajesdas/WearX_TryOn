{
 "cells": [
  {
   "cell_type": "code",
   "execution_count": 1,
   "id": "68414d50-8325-459e-aabd-d19c976f6da5",
   "metadata": {},
   "outputs": [],
   "source": [
    "# !pip install opencv-python mediapipe numpy\n"
   ]
  },
  {
   "cell_type": "code",
   "execution_count": 2,
   "id": "ddcd1a08-f1f2-44f0-8872-9faf672cfa0d",
   "metadata": {},
   "outputs": [],
   "source": [
    "# !pip install opencv-python-headless mediapipe numpy\n"
   ]
  },
  {
   "cell_type": "code",
   "execution_count": 3,
   "id": "21c6d065-e9d6-4521-abd8-2ef469c17614",
   "metadata": {},
   "outputs": [],
   "source": [
    "# !pip install mediapipe --no-cache-dir\n"
   ]
  },
  {
   "cell_type": "code",
   "execution_count": 6,
   "id": "eac8f2b0-a22a-4ae4-b826-271a502c2551",
   "metadata": {},
   "outputs": [],
   "source": [
    "import cv2\n",
    "import mediapipe as mp\n",
    "import numpy as np\n",
    "\n",
    "mp_pose = mp.solutions.pose\n",
    "pose = mp_pose.Pose()\n",
    "\n",
    "# Load T-shirt image\n",
    "tshirt = cv2.imread(\"504.png\", cv2.IMREAD_UNCHANGED)\n",
    "\n",
    "def remove_white_background(image):\n",
    "    image = cv2.cvtColor(image, cv2.COLOR_BGR2BGRA)\n",
    "    lower_white = np.array([200, 200, 200, 0], dtype=np.uint8)\n",
    "    upper_white = np.array([255, 255, 255, 255], dtype=np.uint8)\n",
    "    \n",
    "    mask = cv2.inRange(image, lower_white, upper_white)\n",
    "    image[mask == 255] = [0, 0, 0, 0]\n",
    "    \n",
    "    return image\n",
    "\n",
    "tshirt = remove_white_background(tshirt)\n",
    "\n",
    "def overlay_image(background, overlay, x, y, width, height):\n",
    "    overlay = cv2.resize(overlay, (width, height))\n",
    "\n",
    "    for i in range(height):\n",
    "        for j in range(width):\n",
    "            if y + i >= background.shape[0] or x + j >= background.shape[1]:\n",
    "                continue\n",
    "\n",
    "            alpha = overlay[i, j, 3] / 255.0\n",
    "            if alpha > 0:\n",
    "                background[y + i, x + j] = (1 - alpha) * background[y + i, x + j] + alpha * overlay[i, j, :3]\n",
    "\n",
    "    return background\n",
    "\n",
    "cap = cv2.VideoCapture(0)\n",
    "\n",
    "while cap.isOpened():\n",
    "    ret, frame = cap.read()\n",
    "    if not ret:\n",
    "        break\n",
    "\n",
    "    frame_rgb = cv2.cvtColor(frame, cv2.COLOR_BGR2RGB)\n",
    "    result = pose.process(frame_rgb)\n",
    "\n",
    "    if result.pose_landmarks:\n",
    "        landmarks = result.pose_landmarks.landmark\n",
    "        left_shoulder = landmarks[mp_pose.PoseLandmark.LEFT_SHOULDER]\n",
    "        right_shoulder = landmarks[mp_pose.PoseLandmark.RIGHT_SHOULDER]\n",
    "\n",
    "        if left_shoulder and right_shoulder:\n",
    "            x1, y1 = int(left_shoulder.x * frame.shape[1]), int(left_shoulder.y * frame.shape[0])\n",
    "            x2, y2 = int(right_shoulder.x * frame.shape[1]), int(right_shoulder.y * frame.shape[0])\n",
    "\n",
    "            center_x = (x1 + x2) // 2  \n",
    "            width = abs(x2 - x1) * 2  \n",
    "            height = int(width * 1.5)  \n",
    "\n",
    "            # Move T-shirt up slightly for better neck alignment\n",
    "            x = max(0, center_x - width // 2)\n",
    "            y = max(0, y1 - int(height * 0.2))  # Move up by 20% of T-shirt height\n",
    "\n",
    "            frame = overlay_image(frame, tshirt, x, y, width, height)\n",
    "\n",
    "    cv2.imshow(\"Virtual Try-On\", frame)\n",
    "\n",
    "    if cv2.waitKey(1) & 0xFF in [ord(\"q\"), 27]:  \n",
    "        break\n",
    "\n",
    "cap.release()\n",
    "cv2.destroyAllWindows()\n"
   ]
  },
  {
   "cell_type": "code",
   "execution_count": null,
   "id": "80c9f5fc-3061-441e-9959-34f4f4db7926",
   "metadata": {},
   "outputs": [],
   "source": []
  }
 ],
 "metadata": {
  "kernelspec": {
   "display_name": "Python 3 (ipykernel)",
   "language": "python",
   "name": "python3"
  },
  "language_info": {
   "codemirror_mode": {
    "name": "ipython",
    "version": 3
   },
   "file_extension": ".py",
   "mimetype": "text/x-python",
   "name": "python",
   "nbconvert_exporter": "python",
   "pygments_lexer": "ipython3",
   "version": "3.11.9"
  }
 },
 "nbformat": 4,
 "nbformat_minor": 5
}
